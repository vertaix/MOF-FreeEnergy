{
 "cells": [
  {
   "cell_type": "code",
   "execution_count": null,
   "id": "b098f42d",
   "metadata": {},
   "outputs": [],
   "source": [
    "import pandas as pd\n",
    "from src.prepare_data import prepare_data\n",
    "from transformers import AutoTokenizer"
   ]
  },
  {
   "cell_type": "markdown",
   "id": "33fab4db",
   "metadata": {},
   "source": [
    "Free Energy data"
   ]
  },
  {
   "cell_type": "code",
   "execution_count": null,
   "id": "c9ca20f2",
   "metadata": {},
   "outputs": [],
   "source": [
    "input_path = \"/n/fs/rnspace/projects/vertaix/MOF_Free_Energy_Prediction/data/properties/fe_atom/test.csv\"\n",
    "output_path = \"/n/fs/rnspace/projects/vertaix/MOF-FreeEnergy/data/free_energy/test.csv\"\n",
    "tokenizer = AutoTokenizer.from_pretrained(\"t5-small\")\n",
    "\n",
    "prepare_data(input_path, output_path, tokenizer)\n"
   ]
  },
  {
   "cell_type": "code",
   "execution_count": null,
   "id": "b9b5643b",
   "metadata": {},
   "outputs": [],
   "source": [
    "input_path = \"/n/fs/rnspace/projects/vertaix/MOF_Free_Energy_Prediction/data/properties/fe_atom/validation.csv\"\n",
    "output_path = \"/n/fs/rnspace/projects/vertaix/MOF-FreeEnergy/data/free_energy/validation.csv\"\n",
    "tokenizer = AutoTokenizer.from_pretrained(\"t5-small\")\n",
    "\n",
    "prepare_data(input_path, output_path, tokenizer)"
   ]
  },
  {
   "cell_type": "code",
   "execution_count": null,
   "id": "7e956bf4",
   "metadata": {},
   "outputs": [],
   "source": [
    "input_path = \"/n/fs/rnspace/projects/vertaix/MOF_Free_Energy_Prediction/data/properties/fe_atom/train.csv\"\n",
    "output_path = \"/n/fs/rnspace/projects/vertaix/MOF-FreeEnergy/data/free_energy/train.csv\"\n",
    "tokenizer = AutoTokenizer.from_pretrained(\"t5-small\")\n",
    "\n",
    "prepare_data(input_path, output_path, tokenizer)"
   ]
  },
  {
   "cell_type": "markdown",
   "id": "2ed4a5fc",
   "metadata": {},
   "source": [
    "Strain Enegry data"
   ]
  },
  {
   "cell_type": "code",
   "execution_count": null,
   "id": "533a4285",
   "metadata": {},
   "outputs": [],
   "source": [
    "input_path = \"/n/fs/rnspace/projects/vertaix/MOF_Free_Energy_Prediction/data/properties/se_atom/test.csv\"\n",
    "output_path = \"/n/fs/rnspace/projects/vertaix/MOF-FreeEnergy/data/strain_energy/test.csv\"\n",
    "tokenizer = AutoTokenizer.from_pretrained(\"t5-small\")\n",
    "\n",
    "prepare_data(input_path, output_path, tokenizer)\n"
   ]
  },
  {
   "cell_type": "code",
   "execution_count": null,
   "id": "8efb5da1",
   "metadata": {},
   "outputs": [],
   "source": [
    "input_path = \"/n/fs/rnspace/projects/vertaix/MOF_Free_Energy_Prediction/data/properties/se_atom/validation.csv\"\n",
    "output_path = \"/n/fs/rnspace/projects/vertaix/MOF-FreeEnergy/data/strain_energy/validation.csv\"\n",
    "tokenizer = AutoTokenizer.from_pretrained(\"t5-small\")\n",
    "\n",
    "prepare_data(input_path, output_path, tokenizer)\n"
   ]
  },
  {
   "cell_type": "code",
   "execution_count": null,
   "id": "06ed4d5b",
   "metadata": {},
   "outputs": [],
   "source": [
    "input_path = \"/n/fs/rnspace/projects/vertaix/MOF_Free_Energy_Prediction/data/properties/se_atom/train.csv\"\n",
    "output_path = \"/n/fs/rnspace/projects/vertaix/MOF-FreeEnergy/data/strain_energy/train.csv\"\n",
    "tokenizer = AutoTokenizer.from_pretrained(\"t5-small\")\n",
    "\n",
    "prepare_data(input_path, output_path, tokenizer)\n"
   ]
  }
 ],
 "metadata": {
  "kernelspec": {
   "display_name": "text2prop_env",
   "language": "python",
   "name": "python3"
  },
  "language_info": {
   "codemirror_mode": {
    "name": "ipython",
    "version": 3
   },
   "file_extension": ".py",
   "mimetype": "text/x-python",
   "name": "python",
   "nbconvert_exporter": "python",
   "pygments_lexer": "ipython3",
   "version": "3.10.13"
  }
 },
 "nbformat": 4,
 "nbformat_minor": 5
}
